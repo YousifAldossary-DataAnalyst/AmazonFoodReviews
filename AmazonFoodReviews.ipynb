{
 "cells": [
  {
   "cell_type": "code",
   "execution_count": 227,
   "metadata": {},
   "outputs": [],
   "source": [
    "import pandas as pd\n",
    "import seaborn as sns\n",
    "import numpy as np\n",
    "import matplotlib\n",
    "import matplotlib.pyplot as plt\n",
    "from sklearn.feature_extraction.text import CountVectorizer\n",
    "from sklearn.feature_extraction.text import TfidfVectorizer\n",
    "from sklearn.linear_model import LogisticRegression\n",
    "from sklearn.model_selection import train_test_split\n",
    "from sklearn.dummy import DummyClassifier\n",
    "from string import punctuation\n",
    "from sklearn import svm\n",
    "from nltk.corpus import stopwords\n",
    "from nltk.stem import WordNetLemmatizer\n",
    "import nltk\n",
    "from nltk import ngrams\n",
    "from itertools import chain\n",
    "\n"
   ]
  },
  {
   "cell_type": "code",
   "execution_count": 226,
   "metadata": {},
   "outputs": [
    {
     "data": {
      "text/html": [
       "<div>\n",
       "<style scoped>\n",
       "    .dataframe tbody tr th:only-of-type {\n",
       "        vertical-align: middle;\n",
       "    }\n",
       "\n",
       "    .dataframe tbody tr th {\n",
       "        vertical-align: top;\n",
       "    }\n",
       "\n",
       "    .dataframe thead th {\n",
       "        text-align: right;\n",
       "    }\n",
       "</style>\n",
       "<table border=\"1\" class=\"dataframe\">\n",
       "  <thead>\n",
       "    <tr style=\"text-align: right;\">\n",
       "      <th></th>\n",
       "      <th>Id</th>\n",
       "      <th>ProductId</th>\n",
       "      <th>UserId</th>\n",
       "      <th>ProfileName</th>\n",
       "      <th>HelpfulnessNumerator</th>\n",
       "      <th>HelpfulnessDenominator</th>\n",
       "      <th>Score</th>\n",
       "      <th>Time</th>\n",
       "      <th>Summary</th>\n",
       "      <th>Text</th>\n",
       "    </tr>\n",
       "  </thead>\n",
       "  <tbody>\n",
       "    <tr>\n",
       "      <th>0</th>\n",
       "      <td>1</td>\n",
       "      <td>B001E4KFG0</td>\n",
       "      <td>A3SGXH7AUHU8GW</td>\n",
       "      <td>delmartian</td>\n",
       "      <td>1</td>\n",
       "      <td>1</td>\n",
       "      <td>5</td>\n",
       "      <td>1303862400</td>\n",
       "      <td>Good Quality Dog Food</td>\n",
       "      <td>I have bought several of the Vitality canned d...</td>\n",
       "    </tr>\n",
       "    <tr>\n",
       "      <th>1</th>\n",
       "      <td>2</td>\n",
       "      <td>B00813GRG4</td>\n",
       "      <td>A1D87F6ZCVE5NK</td>\n",
       "      <td>dll pa</td>\n",
       "      <td>0</td>\n",
       "      <td>0</td>\n",
       "      <td>1</td>\n",
       "      <td>1346976000</td>\n",
       "      <td>Not as Advertised</td>\n",
       "      <td>Product arrived labeled as Jumbo Salted Peanut...</td>\n",
       "    </tr>\n",
       "    <tr>\n",
       "      <th>2</th>\n",
       "      <td>3</td>\n",
       "      <td>B000LQOCH0</td>\n",
       "      <td>ABXLMWJIXXAIN</td>\n",
       "      <td>Natalia Corres \"Natalia Corres\"</td>\n",
       "      <td>1</td>\n",
       "      <td>1</td>\n",
       "      <td>4</td>\n",
       "      <td>1219017600</td>\n",
       "      <td>\"Delight\" says it all</td>\n",
       "      <td>This is a confection that has been around a fe...</td>\n",
       "    </tr>\n",
       "    <tr>\n",
       "      <th>3</th>\n",
       "      <td>4</td>\n",
       "      <td>B000UA0QIQ</td>\n",
       "      <td>A395BORC6FGVXV</td>\n",
       "      <td>Karl</td>\n",
       "      <td>3</td>\n",
       "      <td>3</td>\n",
       "      <td>2</td>\n",
       "      <td>1307923200</td>\n",
       "      <td>Cough Medicine</td>\n",
       "      <td>If you are looking for the secret ingredient i...</td>\n",
       "    </tr>\n",
       "    <tr>\n",
       "      <th>4</th>\n",
       "      <td>5</td>\n",
       "      <td>B006K2ZZ7K</td>\n",
       "      <td>A1UQRSCLF8GW1T</td>\n",
       "      <td>Michael D. Bigham \"M. Wassir\"</td>\n",
       "      <td>0</td>\n",
       "      <td>0</td>\n",
       "      <td>5</td>\n",
       "      <td>1350777600</td>\n",
       "      <td>Great taffy</td>\n",
       "      <td>Great taffy at a great price.  There was a wid...</td>\n",
       "    </tr>\n",
       "  </tbody>\n",
       "</table>\n",
       "</div>"
      ],
      "text/plain": [
       "   Id   ProductId          UserId                      ProfileName  \\\n",
       "0   1  B001E4KFG0  A3SGXH7AUHU8GW                       delmartian   \n",
       "1   2  B00813GRG4  A1D87F6ZCVE5NK                           dll pa   \n",
       "2   3  B000LQOCH0   ABXLMWJIXXAIN  Natalia Corres \"Natalia Corres\"   \n",
       "3   4  B000UA0QIQ  A395BORC6FGVXV                             Karl   \n",
       "4   5  B006K2ZZ7K  A1UQRSCLF8GW1T    Michael D. Bigham \"M. Wassir\"   \n",
       "\n",
       "   HelpfulnessNumerator  HelpfulnessDenominator  Score        Time  \\\n",
       "0                     1                       1      5  1303862400   \n",
       "1                     0                       0      1  1346976000   \n",
       "2                     1                       1      4  1219017600   \n",
       "3                     3                       3      2  1307923200   \n",
       "4                     0                       0      5  1350777600   \n",
       "\n",
       "                 Summary                                               Text  \n",
       "0  Good Quality Dog Food  I have bought several of the Vitality canned d...  \n",
       "1      Not as Advertised  Product arrived labeled as Jumbo Salted Peanut...  \n",
       "2  \"Delight\" says it all  This is a confection that has been around a fe...  \n",
       "3         Cough Medicine  If you are looking for the secret ingredient i...  \n",
       "4            Great taffy  Great taffy at a great price.  There was a wid...  "
      ]
     },
     "execution_count": 226,
     "metadata": {},
     "output_type": "execute_result"
    }
   ],
   "source": [
    "\n",
    "df = pd.read_excel(r'C:\\Users\\Yoyo2018\\Downloads\\Reviews.xlsx')\n",
    "\n",
    "df.head()"
   ]
  },
  {
   "cell_type": "code",
   "execution_count": 65,
   "metadata": {},
   "outputs": [],
   "source": [
    "df['Helpful %'] = np.where(df['HelpfulnessDenominator'] > 0,\n",
    "    df['HelpfulnessNumerator'] / df['HelpfulnessDenominator'], -1)\n",
    "   \n",
    "df['% Upvote'] = pd.cut(df['Helpful %'], \n",
    "                bins = [-1, 0, 0.2, 0.4, 0.6, 0.8, 1.0], \n",
    "                labels = ['Empty', '0-20%', '20-40%', '40-60%', '60-80%', '80-100%'], \n",
    "                include_lowest = True)\n"
   ]
  },
  {
   "cell_type": "code",
   "execution_count": 20,
   "metadata": {},
   "outputs": [
    {
     "data": {
      "text/html": [
       "<div>\n",
       "<style scoped>\n",
       "    .dataframe tbody tr th:only-of-type {\n",
       "        vertical-align: middle;\n",
       "    }\n",
       "\n",
       "    .dataframe tbody tr th {\n",
       "        vertical-align: top;\n",
       "    }\n",
       "\n",
       "    .dataframe thead th {\n",
       "        text-align: right;\n",
       "    }\n",
       "</style>\n",
       "<table border=\"1\" class=\"dataframe\">\n",
       "  <thead>\n",
       "    <tr style=\"text-align: right;\">\n",
       "      <th></th>\n",
       "      <th>Id</th>\n",
       "      <th>ProductId</th>\n",
       "      <th>UserId</th>\n",
       "      <th>ProfileName</th>\n",
       "      <th>HelpfulnessNumerator</th>\n",
       "      <th>HelpfulnessDenominator</th>\n",
       "      <th>Score</th>\n",
       "      <th>Time</th>\n",
       "      <th>Summary</th>\n",
       "      <th>Text</th>\n",
       "      <th>Helpful %</th>\n",
       "      <th>% Upvote</th>\n",
       "    </tr>\n",
       "  </thead>\n",
       "  <tbody>\n",
       "    <tr>\n",
       "      <th>0</th>\n",
       "      <td>1</td>\n",
       "      <td>B001E4KFG0</td>\n",
       "      <td>A3SGXH7AUHU8GW</td>\n",
       "      <td>delmartian</td>\n",
       "      <td>1</td>\n",
       "      <td>1</td>\n",
       "      <td>5</td>\n",
       "      <td>1303862400</td>\n",
       "      <td>Good Quality Dog Food</td>\n",
       "      <td>I have bought several of the Vitality canned d...</td>\n",
       "      <td>1.0</td>\n",
       "      <td>80-100%</td>\n",
       "    </tr>\n",
       "    <tr>\n",
       "      <th>1</th>\n",
       "      <td>2</td>\n",
       "      <td>B00813GRG4</td>\n",
       "      <td>A1D87F6ZCVE5NK</td>\n",
       "      <td>dll pa</td>\n",
       "      <td>0</td>\n",
       "      <td>0</td>\n",
       "      <td>1</td>\n",
       "      <td>1346976000</td>\n",
       "      <td>Not as Advertised</td>\n",
       "      <td>Product arrived labeled as Jumbo Salted Peanut...</td>\n",
       "      <td>-1.0</td>\n",
       "      <td>Empty</td>\n",
       "    </tr>\n",
       "    <tr>\n",
       "      <th>2</th>\n",
       "      <td>3</td>\n",
       "      <td>B000LQOCH0</td>\n",
       "      <td>ABXLMWJIXXAIN</td>\n",
       "      <td>Natalia Corres \"Natalia Corres\"</td>\n",
       "      <td>1</td>\n",
       "      <td>1</td>\n",
       "      <td>4</td>\n",
       "      <td>1219017600</td>\n",
       "      <td>\"Delight\" says it all</td>\n",
       "      <td>This is a confection that has been around a fe...</td>\n",
       "      <td>1.0</td>\n",
       "      <td>80-100%</td>\n",
       "    </tr>\n",
       "    <tr>\n",
       "      <th>3</th>\n",
       "      <td>4</td>\n",
       "      <td>B000UA0QIQ</td>\n",
       "      <td>A395BORC6FGVXV</td>\n",
       "      <td>Karl</td>\n",
       "      <td>3</td>\n",
       "      <td>3</td>\n",
       "      <td>2</td>\n",
       "      <td>1307923200</td>\n",
       "      <td>Cough Medicine</td>\n",
       "      <td>If you are looking for the secret ingredient i...</td>\n",
       "      <td>1.0</td>\n",
       "      <td>80-100%</td>\n",
       "    </tr>\n",
       "    <tr>\n",
       "      <th>4</th>\n",
       "      <td>5</td>\n",
       "      <td>B006K2ZZ7K</td>\n",
       "      <td>A1UQRSCLF8GW1T</td>\n",
       "      <td>Michael D. Bigham \"M. Wassir\"</td>\n",
       "      <td>0</td>\n",
       "      <td>0</td>\n",
       "      <td>5</td>\n",
       "      <td>1350777600</td>\n",
       "      <td>Great taffy</td>\n",
       "      <td>Great taffy at a great price.  There was a wid...</td>\n",
       "      <td>-1.0</td>\n",
       "      <td>Empty</td>\n",
       "    </tr>\n",
       "  </tbody>\n",
       "</table>\n",
       "</div>"
      ],
      "text/plain": [
       "   Id   ProductId          UserId                      ProfileName  \\\n",
       "0   1  B001E4KFG0  A3SGXH7AUHU8GW                       delmartian   \n",
       "1   2  B00813GRG4  A1D87F6ZCVE5NK                           dll pa   \n",
       "2   3  B000LQOCH0   ABXLMWJIXXAIN  Natalia Corres \"Natalia Corres\"   \n",
       "3   4  B000UA0QIQ  A395BORC6FGVXV                             Karl   \n",
       "4   5  B006K2ZZ7K  A1UQRSCLF8GW1T    Michael D. Bigham \"M. Wassir\"   \n",
       "\n",
       "   HelpfulnessNumerator  HelpfulnessDenominator  Score        Time  \\\n",
       "0                     1                       1      5  1303862400   \n",
       "1                     0                       0      1  1346976000   \n",
       "2                     1                       1      4  1219017600   \n",
       "3                     3                       3      2  1307923200   \n",
       "4                     0                       0      5  1350777600   \n",
       "\n",
       "                 Summary                                               Text  \\\n",
       "0  Good Quality Dog Food  I have bought several of the Vitality canned d...   \n",
       "1      Not as Advertised  Product arrived labeled as Jumbo Salted Peanut...   \n",
       "2  \"Delight\" says it all  This is a confection that has been around a fe...   \n",
       "3         Cough Medicine  If you are looking for the secret ingredient i...   \n",
       "4            Great taffy  Great taffy at a great price.  There was a wid...   \n",
       "\n",
       "   Helpful % % Upvote  \n",
       "0        1.0  80-100%  \n",
       "1       -1.0    Empty  \n",
       "2        1.0  80-100%  \n",
       "3        1.0  80-100%  \n",
       "4       -1.0    Empty  "
      ]
     },
     "execution_count": 20,
     "metadata": {},
     "output_type": "execute_result"
    }
   ],
   "source": [
    "df.head()"
   ]
  },
  {
   "cell_type": "code",
   "execution_count": 25,
   "metadata": {},
   "outputs": [
    {
     "data": {
      "text/plain": [
       "Text(0.5, 1.0, 'User Scores to a product')"
      ]
     },
     "execution_count": 25,
     "metadata": {},
     "output_type": "execute_result"
    },
    {
     "data": {
      "image/png": "[encoded data removed]",
      "text/plain": [
       "<Figure size 1080x720 with 2 Axes>"
      ]
     },
     "metadata": {
      "needs_background": "light"
     },
     "output_type": "display_data"
    }
   ],
   "source": [
    "df_s = df.groupby(['Score', df['% Upvote']]).agg({'Id': 'count'})\n",
    "\n",
    "df_s = df_s.unstack()\n",
    "\n",
    "df_s.columns = df_s.columns.get_level_values(1)\n",
    "\n",
    "fig = plt.figure(figsize=(15,10))\n",
    "\n",
    "sns.heatmap(df_s[df_s.columns[::-1]].T,\n",
    "            cmap = 'YlGnBu', linewidths=.5, \n",
    "            annot = True, \n",
    "            fmt = 'd', \n",
    "            cbar_kws={'label': '# reviews'})\n",
    "\n",
    "plt.title('User Scores to a product')"
   ]
  },
  {
   "cell_type": "code",
   "execution_count": null,
   "metadata": {},
   "outputs": [],
   "source": [
    "#clearly the majority agrees to most products"
   ]
  },
  {
   "cell_type": "code",
   "execution_count": 29,
   "metadata": {},
   "outputs": [],
   "source": [
    "dff = df[df['Score'] != 3]\n",
    "X = dff['Text']\n",
    "y_dict = {1:0, 2:0, 4:1, 5:1}\n",
    "y = dff['Score'].map(y_dict)"
   ]
  },
  {
   "cell_type": "code",
   "execution_count": null,
   "metadata": {},
   "outputs": [],
   "source": [
    "# here I'm gonna create a logistic regression based on word count"
   ]
  },
  {
   "cell_type": "code",
   "execution_count": 31,
   "metadata": {},
   "outputs": [
    {
     "name": "stdout",
     "output_type": "stream",
     "text": [
      "# features: 115174\n",
      "# train records: 394360\n",
      "# test records: 131454\n"
     ]
    },
    {
     "name": "stderr",
     "output_type": "stream",
     "text": [
      "C:\\Users\\Yoyo2018\\Anaconda3\\lib\\site-packages\\sklearn\\svm\\base.py:931: ConvergenceWarning: Liblinear failed to converge, increase the number of iterations.\n",
      "  \"the number of iterations.\", ConvergenceWarning)\n"
     ]
    },
    {
     "name": "stdout",
     "output_type": "stream",
     "text": [
      "Model Accuracy: 0.9388074915940177\n",
      "\n",
      "-Top 20 positive-\n",
      "          Word  Coefficient\n",
      "    pleasantly     3.332151\n",
      " emeraldforest     3.231008\n",
      "       chedder     3.079679\n",
      "       easiest     2.567075\n",
      "       blowout     2.479314\n",
      "       solving     2.467143\n",
      "      heartier     2.381478\n",
      "     addicting     2.374929\n",
      "        skewed     2.341436\n",
      "         herrs     2.324085\n",
      "    unwrapping     2.314417\n",
      "      drawback     2.297265\n",
      "        hooked     2.291893\n",
      "        hahaha     2.267351\n",
      "    correction     2.260213\n",
      "      downside     2.248970\n",
      "         whisk     2.216052\n",
      "        bertie     2.206365\n",
      "        ration     2.201216\n",
      "    dishwasher     2.175165\n",
      "\n",
      "-Top 20 negative-\n",
      "          Word  Coefficient\n",
      "         snail    -2.472521\n",
      "      tastless    -2.497631\n",
      "       weakest    -2.616788\n",
      "     overrated    -2.635687\n",
      "     cancelled    -2.694697\n",
      "   unappealing    -2.736729\n",
      "       furious    -2.754437\n",
      "    oversalted    -2.755636\n",
      "     deceptive    -2.822644\n",
      " disappointing    -2.822706\n",
      "   undrinkable    -2.828761\n",
      "   embarrassed    -2.831666\n",
      "     redeeming    -2.886767\n",
      "         worst    -2.895500\n",
      " dissapointing    -2.928661\n",
      "           ick    -2.957539\n",
      "         budda    -2.966972\n",
      "         280mg    -2.998812\n",
      "       3095826    -3.054499\n",
      "  unacceptable    -3.294522\n"
     ]
    }
   ],
   "source": [
    "c = CountVectorizer(stop_words = 'english')\n",
    "\n",
    "def text_fit(X, y, model,clf_model,coef_show=1):\n",
    "    \n",
    "    X_c = model.fit_transform(X)\n",
    "    print('# features: {}'.format(X_c.shape[1]))\n",
    "    X_train, X_test, y_train, y_test = train_test_split(X_c, y, random_state=0)\n",
    "    \n",
    "    print('# train records: {}'.format(X_train.shape[0]))\n",
    "    \n",
    "    print('# test records: {}'.format(X_test.shape[0]))\n",
    "    \n",
    "    clf = clf_model.fit(X_train, y_train)\n",
    "    \n",
    "    acc = clf.score(X_test, y_test)\n",
    "    \n",
    "    print ('Model Accuracy: {}'.format(acc))\n",
    "    \n",
    "    if coef_show == 1: \n",
    "        w = model.get_feature_names()\n",
    "        coef = clf.coef_.tolist()[0]\n",
    "        coeff_dff = pd.DataFrame({'Word' : w, 'Coefficient' : coef})\n",
    "        coeff_dff = coeff_dff.sort_values(['Coefficient', 'Word'], ascending=[0, 1])\n",
    "        print('')\n",
    "        print('-Top 20 positive-')\n",
    "        print(coeff_dff.head(20).to_string(index=False))\n",
    "        print('')\n",
    "        print('-Top 20 negative-')        \n",
    "        print(coeff_dff.tail(20).to_string(index=False))\n",
    "        \n",
    "text_fit(X, y, c, LogisticRegression()).head()"
   ]
  },
  {
   "cell_type": "code",
   "execution_count": null,
   "metadata": {},
   "outputs": [],
   "source": [
    "#the data above shows almost 93.9%, I personally think its a bit too high,\n",
    "#but there also meaningless coeffecients like 280mg\n",
    "#+ Python kept crashing \n",
    "\n",
    "#the below is testing the base line accuracy (in this case: positive class)"
   ]
  },
  {
   "cell_type": "code",
   "execution_count": 33,
   "metadata": {},
   "outputs": [
    {
     "name": "stdout",
     "output_type": "stream",
     "text": [
      "# features: 115174\n",
      "# train records: 394360\n",
      "# test records: 131454\n",
      "Model Accuracy: 0.7349719293441052\n"
     ]
    }
   ],
   "source": [
    "text_fit(X, y, c, DummyClassifier(),0)"
   ]
  },
  {
   "cell_type": "code",
   "execution_count": null,
   "metadata": {},
   "outputs": [],
   "source": [
    "#Logistic regression model on TFIDF"
   ]
  },
  {
   "cell_type": "code",
   "execution_count": 37,
   "metadata": {},
   "outputs": [
    {
     "name": "stdout",
     "output_type": "stream",
     "text": [
      "# features: 115174\n",
      "# train records: 394360\n",
      "# test records: 131454\n",
      "Model Accuracy: 0.9346691618360795\n",
      "\n",
      "-Top 20 positive-\n",
      "       Word  Coefficient\n",
      "      great    13.721122\n",
      "  delicious    12.148438\n",
      "       best    12.015490\n",
      "    perfect    10.603325\n",
      "  excellent     9.860514\n",
      "      loves     9.578695\n",
      "     highly     9.036584\n",
      "       love     8.362881\n",
      "  wonderful     7.965320\n",
      "    amazing     7.797344\n",
      "    awesome     7.632912\n",
      "       good     7.338357\n",
      " pleasantly     7.246608\n",
      "       nice     7.190698\n",
      "     hooked     7.019660\n",
      "      yummy     6.956454\n",
      "   favorite     6.940349\n",
      "    pleased     6.929977\n",
      "     smooth     6.885866\n",
      "  fantastic     6.728023\n",
      "\n",
      "-Top 20 negative-\n",
      "           Word  Coefficient\n",
      "          waste    -5.623952\n",
      "           poor    -5.720653\n",
      "    undrinkable    -5.724576\n",
      "           yuck    -6.012426\n",
      "          stale    -6.153028\n",
      "          worse    -6.276960\n",
      "          bland    -6.320257\n",
      "     disgusting    -6.551652\n",
      "           weak    -6.559340\n",
      "         return    -6.689784\n",
      "          threw    -6.732051\n",
      "      tasteless    -6.838190\n",
      "  unfortunately    -7.433917\n",
      "       horrible    -7.790990\n",
      "          awful    -8.143431\n",
      " disappointment    -8.310949\n",
      "   disappointed    -8.494933\n",
      "       terrible    -9.261876\n",
      "  disappointing   -10.116351\n",
      "          worst   -11.710728\n"
     ]
    }
   ],
   "source": [
    "tfidf = TfidfVectorizer(stop_words = 'english')\n",
    "text_fit(X, y, tfidf, LogisticRegression())"
   ]
  },
  {
   "cell_type": "code",
   "execution_count": null,
   "metadata": {},
   "outputs": [],
   "source": [
    "#we notice that the significant words make much more sense now,\n",
    "#and hire coeffecient magnitude\n",
    "\n",
    "#We will be focusing on score 5 reviews, \n",
    "#and get rid of comments with neutral vote\n",
    "#Objective is to boost sales"
   ]
  },
  {
   "cell_type": "code",
   "execution_count": 38,
   "metadata": {},
   "outputs": [
    {
     "name": "stdout",
     "output_type": "stream",
     "text": [
      "Class distribution:\n",
      "1    151721\n",
      "0      2707\n",
      "Name: % Upvote, dtype: int64\n"
     ]
    }
   ],
   "source": [
    "dff = dff[dff['Score'] == 5]\n",
    "dff = dff[dff['% Upvote'].isin(['0-20%', '20-40%', '60-80%', '80-100%'])]\n",
    "dff.shape\n",
    "\n",
    "X = dff['Text']\n",
    "y_dict = {'0-20%': 0, '20-40%': 0, '60-80%': 1, '80-100%': 1}\n",
    "y = dff['% Upvote'].map(y_dict)\n",
    "\n",
    "print('Class distribution:')\n",
    "print(y.value_counts())"
   ]
  },
  {
   "cell_type": "code",
   "execution_count": 39,
   "metadata": {},
   "outputs": [
    {
     "name": "stdout",
     "output_type": "stream",
     "text": [
      "Percentage of upvote transactions:  0.5\n",
      "Percentage of downvote transactions:  0.5\n",
      "Total number of records in resampled data:  5414\n"
     ]
    },
    {
     "name": "stderr",
     "output_type": "stream",
     "text": [
      "C:\\Users\\Yoyo2018\\Anaconda3\\lib\\site-packages\\ipykernel_launcher.py:13: DeprecationWarning: \n",
      ".ix is deprecated. Please use\n",
      ".loc for label based indexing or\n",
      ".iloc for positional indexing\n",
      "\n",
      "See the documentation here:\n",
      "http://pandas.pydata.org/pandas-docs/stable/indexing.html#ix-indexer-is-deprecated\n",
      "  del sys.path[0]\n"
     ]
    }
   ],
   "source": [
    "df_s = pd.DataFrame(data = [X,y]).T\n",
    "\n",
    "Downvote_records = len(df_s[df_s['% Upvote'] == 0])\n",
    "Downvote_indices = np.array(df_s[df_s['% Upvote'] == 0].index)\n",
    "\n",
    "Upvote_indices = df_s[df_s['% Upvote'] == 1].index\n",
    "\n",
    "random_upvote_indices = np.random.choice(Upvote_indices, Downvote_records, replace = False)\n",
    "random_upvote_indices = np.array(random_upvote_indices)\n",
    "\n",
    "under_sample_indices = np.concatenate([Downvote_indices,random_upvote_indices])\n",
    "\n",
    "under_sample_data = df_s.ix[under_sample_indices, :]\n",
    "X_u = under_sample_data['Text']\n",
    "under_sample_data['% Upvote'] = under_sample_data['% Upvote'].astype(int)\n",
    "y_u = under_sample_data['% Upvote']\n",
    "\n",
    "\n",
    "print(\"Percentage of upvote transactions: \", \n",
    "      len(under_sample_data[under_sample_data['% Upvote'] == 1])/len(under_sample_data))\n",
    "print(\"Percentage of downvote transactions: \", \n",
    "      len(under_sample_data[under_sample_data['% Upvote'] == 0])/len(under_sample_data))\n",
    "print(\"Total number of records in resampled data: \", \n",
    "      len(under_sample_data))"
   ]
  },
  {
   "cell_type": "code",
   "execution_count": 40,
   "metadata": {},
   "outputs": [
    {
     "name": "stdout",
     "output_type": "stream",
     "text": [
      "# features: 15887\n",
      "# train records: 4060\n",
      "# test records: 1354\n",
      "Model Accuracy: 0.707533234859675\n",
      "\n",
      "-Top 20 positive-\n",
      "         Word  Coefficient\n",
      "     quantity     1.586899\n",
      "         thai     1.394134\n",
      "         sooo     1.288332\n",
      " discontinued     1.267847\n",
      "     cherries     1.212032\n",
      "       option     1.081713\n",
      "       longer     1.069430\n",
      "       keurig     1.066437\n",
      "     cheapest     1.065360\n",
      "      dessert     1.048614\n",
      "        share     1.023855\n",
      "         kick     1.023476\n",
      "     cinnamon     1.023234\n",
      "         teas     0.996236\n",
      "        small     0.987965\n",
      "       single     0.984999\n",
      "        point     0.983636\n",
      "       bitter     0.970839\n",
      "          fix     0.965886\n",
      "      contain     0.961730\n",
      "\n",
      "-Top 20 negative-\n",
      "       Word  Coefficient\n",
      "      purse    -0.980305\n",
      "    package    -0.988605\n",
      "      offer    -0.995447\n",
      "         24    -1.001491\n",
      "    cleanse    -1.053518\n",
      "     choice    -1.072667\n",
      "   brooklyn    -1.073505\n",
      "   mountain    -1.094459\n",
      "       look    -1.094496\n",
      "     lipton    -1.147274\n",
      "     awhile    -1.148736\n",
      "      items    -1.149958\n",
      "     reason    -1.189616\n",
      "        man    -1.192534\n",
      "      maybe    -1.199334\n",
      "    finicky    -1.225036\n",
      "    weather    -1.256105\n",
      " cappuccino    -1.296594\n",
      "      kashi    -1.509481\n",
      "     marley    -1.747131\n"
     ]
    }
   ],
   "source": [
    "c = CountVectorizer(stop_words = 'english')\n",
    "\n",
    "text_fit(X_u, y_u, c, LogisticRegression())"
   ]
  },
  {
   "cell_type": "code",
   "execution_count": null,
   "metadata": {},
   "outputs": [],
   "source": [
    "#well this is not efficient the accuracy is way lower\n",
    "#and the words are insignificant\n",
    "\n",
    "#it should results the same or slight difference in accuracy \n",
    "#but using regression model on TFIDF can possible make it better"
   ]
  },
  {
   "cell_type": "code",
   "execution_count": 41,
   "metadata": {},
   "outputs": [
    {
     "name": "stdout",
     "output_type": "stream",
     "text": [
      "# features: 15887\n",
      "# train records: 4060\n",
      "# test records: 1354\n",
      "Model Accuracy: 0.7193500738552437\n",
      "\n",
      "-Top 20 positive-\n",
      "      Word  Coefficient\n",
      "      food     1.968841\n",
      "     small     1.800621\n",
      "      make     1.729364\n",
      "    gluten     1.628911\n",
      "   perfect     1.590768\n",
      " wonderful     1.553832\n",
      "     bread     1.423860\n",
      "    longer     1.408856\n",
      "  cinnamon     1.368663\n",
      "     large     1.329772\n",
      "      rice     1.323003\n",
      "      case     1.314787\n",
      "  quantity     1.286310\n",
      "    flavor     1.282924\n",
      "       lot     1.279441\n",
      "    keurig     1.245146\n",
      "      bold     1.237485\n",
      "   minutes     1.225955\n",
      "     white     1.225683\n",
      "       dog     1.196113\n",
      "\n",
      "-Top 20 negative-\n",
      "       Word  Coefficient\n",
      "      wrong    -1.171635\n",
      "     reason    -1.174969\n",
      "       wish    -1.227951\n",
      "      cause    -1.237674\n",
      "    cleanse    -1.238757\n",
      "       know    -1.250945\n",
      "       yoga    -1.267638\n",
      "       zico    -1.348468\n",
      "    package    -1.357874\n",
      "     seller    -1.373401\n",
      "       look    -1.381671\n",
      "     thanks    -1.423873\n",
      "     lipton    -1.493680\n",
      "   products    -1.493967\n",
      "         br    -1.504216\n",
      "      kashi    -1.517179\n",
      " cappuccino    -1.705087\n",
      "     marley    -1.885474\n",
      "      drink    -2.007184\n",
      "      water    -2.040754\n"
     ]
    }
   ],
   "source": [
    "tfidf_n = TfidfVectorizer(stop_words = 'english')\n",
    "\n",
    "text_fit(X_u, y_u, tfidf_n, LogisticRegression())"
   ]
  },
  {
   "cell_type": "code",
   "execution_count": null,
   "metadata": {},
   "outputs": [],
   "source": [
    "#No significatnt changes and words dont make sense\n",
    "\n",
    "#I will test non-context features and hope they work"
   ]
  },
  {
   "cell_type": "code",
   "execution_count": 42,
   "metadata": {},
   "outputs": [
    {
     "name": "stdout",
     "output_type": "stream",
     "text": [
      "Downvote score 5 comments examples:\n",
      "207      Hard to find the wintergreen smalls [sugar fre...\n",
      "4511     Wonderful, smooth, satisfying decaf coffee wit...\n",
      "7787     My husband is a big coffee drinker, and with a...\n",
      "12072    We love French roast coffee and my husband mus...\n",
      "13671    THIS IS A LOVELY VERY HEALTHY TREE,ALONG WITH ...\n",
      "Name: Text, dtype: object\n",
      "Upvote score 5 comments examples\n",
      "547271    This mouse mix is great for everyday desert; o...\n",
      "394431    I was a little confused by seeing a \"bottle\" o...\n",
      "123215    After a lengthy trek in the Himalayan Range, t...\n",
      "492800    In our house, the relish tray gets a lot of at...\n",
      "340708    This shipment arrived carrying the the eggs, a...\n",
      "Name: Text, dtype: object\n"
     ]
    }
   ],
   "source": [
    "print('Downvote score 5 comments examples:')\n",
    "print(under_sample_data[under_sample_data['% Upvote']==0]['Text'].iloc[:100:20])\n",
    "print('Upvote score 5 comments examples')\n",
    "print(under_sample_data[under_sample_data['% Upvote']==1]['Text'].iloc[:100:20])"
   ]
  },
  {
   "cell_type": "code",
   "execution_count": 43,
   "metadata": {},
   "outputs": [
    {
     "name": "stdout",
     "output_type": "stream",
     "text": [
      "% Upvote                  0          1\n",
      "word_count        83.927226  86.214259\n",
      "capital_count     19.252678  13.799040\n",
      "question_mark      0.180273   0.069080\n",
      "exclamation_mark   0.906169   0.947543\n",
      "punctuation       22.482822  18.994089\n"
     ]
    }
   ],
   "source": [
    "under_sample_data['word_count'] = under_sample_data['Text'].apply(lambda x: len(x.split()))\n",
    "under_sample_data['capital_count'] = under_sample_data['Text'].apply(lambda x: sum(1 for c in x if c.isupper()))\n",
    "under_sample_data['question_mark'] = under_sample_data['Text'].apply(lambda x: sum(1 for c in x if c == '?'))\n",
    "under_sample_data['exclamation_mark'] = under_sample_data['Text'].apply(lambda x: sum(1 for c in x if c == '!'))\n",
    "under_sample_data['punctuation'] = under_sample_data['Text'].apply(lambda x: sum(1 for c in x if c in punctuation))\n",
    "\n",
    "print(under_sample_data.groupby('% Upvote').agg({'word_count': 'mean', 'capital_count': 'mean', 'question_mark': 'mean', 'exclamation_mark': 'mean', 'punctuation': 'mean'}).T)\n",
    "\n",
    "X_num = under_sample_data[under_sample_data.columns.difference(['% Upvote', 'Text'])]\n",
    "y_num = under_sample_data['% Upvote']"
   ]
  },
  {
   "cell_type": "code",
   "execution_count": null,
   "metadata": {},
   "outputs": [],
   "source": [
    "# now that we have extracted some possible features, \n",
    "#we can train the model to predict"
   ]
  },
  {
   "cell_type": "code",
   "execution_count": 46,
   "metadata": {},
   "outputs": [
    {
     "name": "stdout",
     "output_type": "stream",
     "text": [
      "Logistic Regression accuracy: 0.5805022156573116\n"
     ]
    },
    {
     "name": "stderr",
     "output_type": "stream",
     "text": [
      "C:\\Users\\Yoyo2018\\Anaconda3\\lib\\site-packages\\sklearn\\svm\\base.py:196: FutureWarning: The default value of gamma will change from 'auto' to 'scale' in version 0.22 to account better for unscaled features. Set gamma explicitly to 'auto' or 'scale' to avoid this warning.\n",
      "  \"avoid this warning.\", FutureWarning)\n"
     ]
    },
    {
     "name": "stdout",
     "output_type": "stream",
     "text": [
      "SVM accuracy: 0.6632200886262924\n"
     ]
    }
   ],
   "source": [
    "X_train, X_test, y_train, y_test = train_test_split(X_num, y_num, random_state=0)\n",
    "\n",
    "clf_lr = LogisticRegression().fit(X_train, y_train)\n",
    "acc_lr = clf_lr.score(X_test, y_test)\n",
    "print('Logistic Regression accuracy: {}'.format(acc_lr))\n",
    "\n",
    "clf_svm = svm.SVC().fit(X_train, y_train)\n",
    "acc_svm = clf_svm.score(X_test, y_test)\n",
    "print('SVM accuracy: {}'.format(acc_svm))"
   ]
  },
  {
   "cell_type": "code",
   "execution_count": 49,
   "metadata": {
    "collapsed": true
   },
   "outputs": [
    {
     "data": {
      "text/plain": [
       "'This analysis will be carried out to focus on one specific user, \\non what the user likes in terms of fine food, \\nbased on the reviews this user had given in the past. \\nThis can be expanded to all users later on.'"
      ]
     },
     "execution_count": 49,
     "metadata": {},
     "output_type": "execute_result"
    }
   ],
   "source": [
    "# the accuracy has dropped by 25% so we cant predict or get useful features\n",
    "\n",
    "\"\"\"This analysis will be carried out to focus on one specific user, \n",
    "on what the user likes in terms of fine food, \n",
    "based on the reviews this user had given in the past. \n",
    "This can be expanded to all users later on.\"\"\"\n"
   ]
  },
  {
   "cell_type": "code",
   "execution_count": 212,
   "metadata": {},
   "outputs": [
    {
     "name": "stdout",
     "output_type": "stream",
     "text": [
      "                Score count  Score mean\n",
      "UserId                                 \n",
      "A3OXHLG6DIBRW8          448    4.535714\n",
      "A1YUL9PCJR3JTY          421    4.494062\n",
      "AY12DBB0U420B           389    4.647815\n",
      "A281NPSIMI1C2R          365    4.841096\n",
      "A1Z54EM24Y40LL          256    4.453125\n",
      "A1TMAVN4CEM8U8          204    4.833333\n",
      "A2MUGFV2TDQ47K          201    3.751244\n",
      "A3TVZM3ZIXG8YW          199    1.000000\n",
      "A3PJZ8TU8FDQ1K          178    4.601124\n",
      "AQQLWCMRNDFGI           176    3.954545\n"
     ]
    }
   ],
   "source": [
    "df_user = df.groupby(['UserId']).agg({'Score': ['count','mean']})\n",
    "df_user.columns = df_user.columns.get_level_values(1)\n",
    "df_user.columns = ['Score count', 'Score mean']\n",
    "df_user = df_user.sort_values(by = 'Score count', ascending = False)\n",
    "print(df_user.head(10))"
   ]
  },
  {
   "cell_type": "code",
   "execution_count": 96,
   "metadata": {},
   "outputs": [
    {
     "data": {
      "image/png": "[encoded data removed]",
      "text/plain": [
       "<Figure size 1080x720 with 1 Axes>"
      ]
     },
     "metadata": {
      "needs_background": "light"
     },
     "output_type": "display_data"
    }
   ],
   "source": [
    "#the average score is 4.54 approximately with 448 reviews\n",
    "\n",
    "def plot_user(UserId):\n",
    "    df_1user = df[df['UserId'] == UserId]['Score']\n",
    "    df_1user_plot = df_1user.value_counts(sort=False)\n",
    "    ax = df_1user_plot.plot(kind = 'bar', figsize = (15,10), title = 'Score distribution of user {} review'.format(df[df['UserId'] == UserId]['ProfileName'].iloc[0]))\n",
    "\n",
    "plot_user('A3OXHLG6DIBRW8')"
   ]
  },
  {
   "cell_type": "code",
   "execution_count": 97,
   "metadata": {},
   "outputs": [
    {
     "name": "stdout",
     "output_type": "stream",
     "text": [
      "                Score count  Score mean\n",
      "UserId                                 \n",
      "A35R32TA60XD57          141    3.460993\n",
      "A2M9D9BDHONV3Y          115    3.269565\n",
      "A2TN9C5E4A0I3F          110    2.727273\n",
      "A2XNJJ9TF70P4J           85    2.976471\n",
      "AJB5P7GVR0MT8            70    3.257143\n"
     ]
    }
   ],
   "source": [
    "print(df_user[(df_user['Score mean']<3.5) \n",
    "     & \n",
    "    (df_user['Score mean']>2.5)].head())"
   ]
  },
  {
   "cell_type": "code",
   "execution_count": 98,
   "metadata": {
    "scrolled": true
   },
   "outputs": [
    {
     "data": {
      "image/png": "[encoded data removed]",
      "text/plain": [
       "<Figure size 1080x720 with 1 Axes>"
      ]
     },
     "metadata": {
      "needs_background": "light"
     },
     "output_type": "display_data"
    }
   ],
   "source": [
    "plot_user('A2M9D9BDHONV3Y')"
   ]
  },
  {
   "cell_type": "code",
   "execution_count": null,
   "metadata": {},
   "outputs": [],
   "source": [
    "# We choose him because he seemed a better analysis target"
   ]
  },
  {
   "cell_type": "code",
   "execution_count": 243,
   "metadata": {},
   "outputs": [],
   "source": [
    "def GTN(score, benchmark, userid='all'):\n",
    "\n",
    "    if userid != 'all':\n",
    "        dff = df[(df['UserId'] == userid) & (df['Score'] == score)]['Text']\n",
    "    else:\n",
    "        dff = df[df['Score'] == score]['Text']\n",
    "        \n",
    "    count = len(dff)\n",
    "    total_text = ' '.join(dff)\n",
    "    total_text = total_text.lower()\n",
    "    stop = set(stopwords.words('english'))\n",
    "    total_text = nltk.word_tokenize(total_text)\n",
    "    total_text = [word for word in total_text if word not in stop and len(word) >= 3]\n",
    "    lemmatizer = WordNetLemmatizer()\n",
    "    total_text = [lemmatizer.lemmatize(w,'v') for w in total_text]\n",
    "    bigrams = ngrams(total_text,2)\n",
    "    trigrams = ngrams(total_text, 3)\n",
    "\n",
    "    # look at 2-gram and 3-gram together\n",
    "    combine = chain(bigrams, trigrams)\n",
    "    text = nltk.Text(combine)\n",
    "    fdist = nltk.FreqDist(text)\n",
    "    \n",
    "    # return only phrase occurs more than benchmark of his reviews\n",
    "    return sorted([(w,fdist[w],str(round(fdist[w]/count*100,2))+'%') for w in set(text) \n",
    "                   if fdist[w] >= count*benchmark], key=lambda x: -x[1])"
   ]
  },
  {
   "cell_type": "code",
   "execution_count": 246,
   "metadata": {},
   "outputs": [
    {
     "name": "stdout",
     "output_type": "stream",
     "text": [
      "score 1 reviews most popular:\n",
      "   Count  Occur %                   Phrase\n",
      "0   31.0  119.23%               (..., ...)\n",
      "1   17.0   65.38%          (..., ..., ...)\n",
      "2   11.0   42.31%             (never, buy)\n",
      "3    9.0   34.62%           (buy, product)\n",
      "4    8.0   30.77%    (never, buy, product)\n",
      "5    8.0   30.77%  (monosodium, glutamate)\n",
      "6    7.0   26.92%            (decide, try)\n",
      "7    7.0   26.92%         (dry, tasteless)\n",
      "8    7.0   26.92%          (picture, look)\n",
      "score 2 reviews most popular:\n",
      "    Count Occur %                Phrase\n",
      "0     8.0  47.06%  (sauce, ruin, whole)\n",
      "1     8.0  47.06%         (sauce, ruin)\n",
      "2     8.0  47.06%         (ruin, whole)\n",
      "3     6.0  35.29%       (product, ever)\n",
      "4     6.0  35.29%            (n't, buy)\n",
      "5     5.0  29.41%     (n't, get, wrong)\n",
      "6     5.0  29.41%     (buy, particular)\n",
      "7     5.0  29.41%          (get, wrong)\n",
      "8     5.0  29.41%    (.give, try, like)\n",
      "9     5.0  29.41%          (.give, try)\n",
      "10    5.0  29.41%     (..., .give, try)\n",
      "11    5.0  29.41%          (..., .give)\n",
      "12    5.0  29.41%           (try, like)\n",
      "13    5.0  29.41%         (taste, like)\n",
      "14    5.0  29.41%            (n't, get)\n",
      "score 3 reviews most popular:\n",
      "   Count Occur %         Phrase\n",
      "0    7.0   50.0%     (..., ...)\n",
      "1    4.0  28.57%   (whole, lot)\n",
      "2    4.0  28.57%  (taste, like)\n",
      "score 4 reviews most popular:\n",
      "   Count Occur %               Phrase\n",
      "0    6.0   37.5%  (highly, recommend)\n",
      "1    5.0  31.25%         (side, dish)\n",
      "2    4.0   25.0%       (potato, chip)\n",
      "score 5 reviews most popular:\n",
      "   Count Occur %               Phrase\n",
      "0   18.0  42.86%  (highly, recommend)\n"
     ]
    }
   ],
   "source": [
    "index = ['Phrase', 'Count', 'Occur %']\n",
    "\n",
    "for j in range(1,6):\n",
    "    test = pd.DataFrame()\n",
    "    d = GTN(j, 0.25, 'A2M9D9BDHONV3Y')\n",
    "    print('score {} reviews most popular:'.format(j))\n",
    "    for i in d:\n",
    "        test = test.append(pd.Series(i, index = index), ignore_index = True)\n",
    "        test = test.sort_values('Count', ascending=False)\n",
    "    print(test)"
   ]
  },
  {
   "cell_type": "code",
   "execution_count": 248,
   "metadata": {},
   "outputs": [
    {
     "name": "stdout",
     "output_type": "stream",
     "text": [
      "score 1 reviews most popular 2-gram / 3-gram:\n",
      "    Count Occur %          Phrase\n",
      "0  5536.0  10.59%   (taste, like)\n",
      "1  2316.0   4.43%  (waste, money)\n",
      "2  2175.0   4.16%    (could, n't)\n",
      "3  2111.0   4.04%     (n't, even)\n",
      "4  1809.0   3.46%     (n't, know)\n",
      "5  1794.0   3.43%    (would, n't)\n",
      "6  1644.0   3.15%      (n't, buy)\n",
      "score 2 reviews most popular 2-gram / 3-gram:\n",
      "    Count Occur %          Phrase\n",
      "0  3161.0  10.62%   (taste, like)\n",
      "1  1361.0   4.57%     (n't, like)\n",
      "2  1304.0   4.38%    (would, n't)\n",
      "3  1086.0   3.65%  (think, would)\n",
      "4  1064.0   3.57%      (n't, buy)\n",
      "5  1009.0   3.39%     (n't, know)\n",
      "6   996.0   3.35%    (n't, taste)\n",
      "7   945.0   3.17%    (could, n't)\n",
      "8   910.0   3.06%   (taste, good)\n",
      "score 3 reviews most popular 2-gram / 3-gram:\n",
      "    Count Occur %          Phrase\n",
      "0  3237.0   7.59%   (taste, like)\n",
      "1  1632.0   3.83%    (would, n't)\n",
      "2  1612.0   3.78%     (n't, like)\n",
      "3  1551.0   3.64%   (taste, good)\n",
      "4  1462.0   3.43%   (href=, http)\n",
      "5  1406.0    3.3%     (n't, know)\n",
      "6  1295.0   3.04%  (think, would)\n",
      "score 4 reviews most popular 2-gram / 3-gram:\n",
      "    Count Occur %          Phrase\n",
      "0  4352.0    5.4%   (taste, like)\n",
      "1  3203.0   3.97%   (taste, good)\n",
      "2  3011.0   3.73%   (href=, http)\n",
      "3  2818.0   3.49%  (pretty, good)\n",
      "4  2741.0    3.4%  (really, like)\n",
      "5  2427.0   3.01%     (n't, like)\n",
      "score 5 reviews most popular 2-gram / 3-gram:\n",
      "     Count Occur %               Phrase\n",
      "0  17491.0   4.82%  (highly, recommend)\n",
      "1  14449.0   3.98%        (taste, like)\n",
      "2  11760.0   3.24%     (grocery, store)\n",
      "3  11470.0   3.16%       (taste, great)\n"
     ]
    }
   ],
   "source": [
    "index = ['Phrase', 'Count', 'Occur %']\n",
    "\n",
    "for j in range(1,6):\n",
    "    test = pd.DataFrame()\n",
    "    d = GTN(j, 0.03)\n",
    "    print('score {} reviews most popular:'.format(j))\n",
    "    for i in d:\n",
    "        test = test.append(pd.Series(i, index = index), ignore_index = True)\n",
    "    test = test.sort_values('Count', ascending=False)\n",
    "    print(test)"
   ]
  },
  {
   "cell_type": "code",
   "execution_count": null,
   "metadata": {},
   "outputs": [],
   "source": [
    "#these are not much useful discoveries except positive / negative tones, \n",
    "#since people are very different in texting style\n",
    "#but I will rather simplify it to more of adj like tasty, good, bad, etc."
   ]
  },
  {
   "cell_type": "code",
   "execution_count": 256,
   "metadata": {},
   "outputs": [],
   "source": [
    "def adj(score, benchmark, userid='all'):\n",
    "    \n",
    "    if userid != 'all':\n",
    "        dff = df[(df['UserId'] == userid) & (df['Score'] == score)]['Text']\n",
    "    else:\n",
    "        dff = df[df['Score'] == score]['Text']\n",
    "        \n",
    "    count = len(dff)\n",
    "    total_text = ' '.join(dff)\n",
    "    total_text = total_text.lower()\n",
    "    stop = set(stopwords.words('english'))\n",
    "    total_text = nltk.word_tokenize(total_text)\n",
    "    total_text = [word for word in total_text if word not in stop and len(word) >= 3]\n",
    "    lemmatizer = WordNetLemmatizer()\n",
    "    total_text = [lemmatizer.lemmatize(w,'a') for w in total_text]\n",
    "    # get adjective only\n",
    "    total_text = [word for word, form in nltk.pos_tag(total_text) if form == 'JJ']\n",
    "    \n",
    "    text = nltk.Text(total_text)\n",
    "    fdist = nltk.FreqDist(text)\n",
    "    \n",
    "    # return only phrase occurs more than benchmark\n",
    "    return sorted([(w,fdist[w],str(round(fdist[w]/count*100,2))+'%') for w in set(text) if fdist[w] >= count*benchmark], key=lambda x: -x[1])"
   ]
  },
  {
   "cell_type": "code",
   "execution_count": 257,
   "metadata": {},
   "outputs": [
    {
     "name": "stdout",
     "output_type": "stream",
     "text": [
      "score 1 reviews most popular adjectives word:\n",
      "   Count Occur %     Phrase\n",
      "0   13.0   50.0%        dry\n",
      "1   12.0  46.15%     cheese\n",
      "2   10.0  38.46%        bad\n",
      "3   10.0  38.46%     little\n",
      "4    8.0  30.77%  delicious\n",
      "5    8.0  30.77%       hard\n",
      "6    8.0  30.77%      tasty\n",
      "7    8.0  30.77%  expensive\n",
      "8    7.0  26.92%      bread\n",
      "9    7.0  26.92%       poor\n",
      "score 2 reviews most popular adjectives word:\n",
      "   Count Occur %      Phrase\n",
      "0   10.0  58.82%       whole\n",
      "1    8.0  47.06%      cheese\n",
      "2    6.0  35.29%   delicious\n",
      "3    6.0  35.29%       awful\n",
      "4    6.0  35.29%       wrong\n",
      "5    5.0  29.41%       .give\n",
      "6    5.0  29.41%  particular\n",
      "7    5.0  29.41%        good\n",
      "score 3 reviews most popular adjectives word:\n",
      "   Count Occur %        Phrase\n",
      "0    9.0  64.29%         whole\n",
      "1    5.0  35.71%          high\n",
      "2    4.0  28.57%         first\n",
      "3    4.0  28.57%  disappointed\n",
      "4    4.0  28.57%          good\n",
      "5    4.0  28.57%         great\n",
      "score 4 reviews most popular adjectives word:\n",
      "   Count Occur %     Phrase\n",
      "0    9.0  56.25%      great\n",
      "1    8.0   50.0%  delicious\n",
      "2    5.0  31.25%  recommend\n",
      "3    5.0  31.25%     little\n",
      "4    4.0   25.0%       high\n",
      "5    4.0   25.0%       sure\n",
      "6    4.0   25.0%    regular\n",
      "7    4.0   25.0%       good\n",
      "8    4.0   25.0%       much\n",
      "9    4.0   25.0%   multiple\n",
      "score 5 reviews most popular adjectives word:\n",
      "   Count Occur %     Phrase\n",
      "0   31.0  73.81%  delicious\n",
      "1   18.0  42.86%      great\n",
      "2   13.0  30.95%       high\n",
      "3   13.0  30.95%      first\n",
      "4   12.0  28.57%      fresh\n"
     ]
    }
   ],
   "source": [
    "index = ['Phrase', 'Count', 'Occur %']\n",
    "\n",
    "for j in range(1,6):\n",
    "    test = pd.DataFrame()\n",
    "    d = adj(j, 0.25, 'A2M9D9BDHONV3Y')\n",
    "    print('score {} reviews most popular adjectives word:'.format(j))\n",
    "    for i in d:\n",
    "        test = test.append(pd.Series(i, index = index), ignore_index = True)\n",
    "    test = test.sort_values('Count', ascending=False)\n",
    "    print(test)"
   ]
  },
  {
   "cell_type": "code",
   "execution_count": null,
   "metadata": {},
   "outputs": [],
   "source": [
    "#Obviously much more useful information here, \n",
    "#e.g. A. Bennett hates food that are too dry and expensive\n"
   ]
  },
  {
   "cell_type": "code",
   "execution_count": null,
   "metadata": {},
   "outputs": [
    {
     "name": "stdout",
     "output_type": "stream",
     "text": [
      "score 1 reviews most popular:\n",
      "      Count Occur %        Phrase\n",
      "0   16193.0  30.98%          good\n",
      "1   10777.0  20.62%           bad\n",
      "2    4977.0   9.52%         great\n",
      "3    4844.0   9.27%          much\n",
      "4    4786.0   9.16%        little\n",
      "5    4774.0   9.13%           old\n",
      "6    4198.0   8.03%         first\n",
      "7    3956.0   7.57%           new\n",
      "8    3789.0   7.25%     different\n",
      "9    3717.0   7.11%          many\n",
      "10   3537.0   6.77%         small\n",
      "11   3296.0   6.31%          real\n",
      "12   3000.0   5.74%  disappointed\n",
      "13   2884.0   5.52%          sure\n",
      "14   2831.0   5.42%          free\n",
      "15   2823.0    5.4%          diet\n",
      "16   2761.0   5.28%          high\n",
      "17   2658.0   5.09%          last\n",
      "18   2539.0   4.86%       natural\n",
      "19   2534.0   4.85%       organic\n",
      "20   2533.0   4.85%      horrible\n",
      "21   2532.0   4.84%        amazon\n",
      "22   2514.0   4.81%          hard\n",
      "23   2478.0   4.74%         whole\n",
      "24   2397.0   4.59%         green\n",
      "25   2363.0   4.52%         sweet\n",
      "26   2345.0   4.49%           hot\n",
      "27   2330.0   4.46%         cheap\n",
      "28   2324.0   4.45%           big\n",
      "29   2253.0   4.31%      terrible\n",
      "30   2237.0   4.28%         awful\n",
      "31   2216.0   4.24%         local\n",
      "32   2124.0   4.06%       healthy\n",
      "33   2039.0    3.9%           dry\n",
      "34   1960.0   3.75%       regular\n",
      "35   1944.0   3.72%       several\n",
      "36   1891.0   3.62%     expensive\n",
      "37   1880.0    3.6%        strong\n",
      "38   1832.0   3.51%           low\n",
      "39   1814.0   3.47%         large\n",
      "40   1769.0   3.38%    artificial\n",
      "41   1704.0   3.26%         wrong\n",
      "42   1698.0   3.25%         tried\n",
      "43   1671.0    3.2%        second\n",
      "44   1661.0   3.18%          long\n",
      "score 2 reviews most popular:\n",
      "      Count Occur %        Phrase\n",
      "0   13522.0  45.42%          good\n",
      "1    4250.0  14.28%          much\n",
      "2    4170.0  14.01%           bad\n",
      "3    3909.0  13.13%         great\n",
      "4    3691.0   12.4%        little\n",
      "5    2847.0   9.56%         small\n",
      "6    2322.0    7.8%         first\n",
      "7    2292.0    7.7%        strong\n",
      "8    2237.0   7.51%     different\n",
      "9    2163.0   7.27%         sweet\n",
      "10   2067.0   6.94%          many\n",
      "11   2050.0   6.89%           old\n",
      "12   2006.0   6.74%           big\n",
      "13   1958.0   6.58%          hard\n",
      "14   1923.0   6.46%           hot\n",
      "15   1906.0    6.4%  disappointed\n",
      "16   1901.0   6.39%          sure\n",
      "17   1893.0   6.36%          high\n",
      "18   1766.0   5.93%         green\n",
      "19   1702.0   5.72%         whole\n",
      "20   1643.0   5.52%       healthy\n",
      "21   1608.0    5.4%           new\n",
      "22   1595.0   5.36%          weak\n",
      "23   1576.0   5.29%       organic\n",
      "24   1518.0    5.1%          real\n",
      "25   1495.0   5.02%       regular\n",
      "26   1465.0   4.92%       natural\n",
      "27   1446.0   4.86%           dry\n",
      "28   1443.0   4.85%          free\n",
      "29   1443.0   4.85%          last\n",
      "30   1404.0   4.72%         large\n",
      "31   1297.0   4.36%           low\n",
      "32   1226.0   4.12%          nice\n",
      "33   1213.0   4.07%       several\n",
      "34   1187.0   3.99%         fresh\n",
      "35   1135.0   3.81%         local\n",
      "36   1049.0   3.52%        bitter\n",
      "37   1042.0    3.5%     expensive\n",
      "38   1041.0    3.5%         black\n",
      "39   1039.0   3.49%        amazon\n",
      "40   1017.0   3.42%         cheap\n",
      "41    989.0   3.32%          fine\n",
      "42    986.0   3.31%          full\n",
      "43    978.0   3.29%          open\n",
      "44    974.0   3.27%    artificial\n",
      "45    970.0   3.26%          long\n",
      "46    929.0   3.12%         worth\n",
      "47    915.0   3.07%          give\n",
      "score 3 reviews most popular:\n",
      "      Count Occur %        Phrase\n",
      "0   25084.0  58.83%          good\n",
      "1    7646.0  17.93%         great\n",
      "2    7364.0  17.27%        little\n",
      "3    6927.0  16.25%          much\n",
      "4    5472.0  12.83%           bad\n",
      "5    4744.0  11.13%        strong\n",
      "6    4681.0  10.98%         small\n",
      "7    4009.0    9.4%         sweet\n",
      "8    3463.0   8.12%         first\n",
      "9    3430.0   8.04%     different\n",
      "10   3288.0   7.71%          high\n",
      "11   3107.0   7.29%          nice\n",
      "12   3100.0   7.27%          sure\n",
      "13   3034.0   7.12%           big\n",
      "14   2918.0   6.84%           hot\n",
      "15   2904.0   6.81%          many\n",
      "16   2762.0   6.48%         green\n",
      "17   2666.0   6.25%       healthy\n",
      "18   2605.0   6.11%       organic\n",
      "19   2597.0   6.09%          hard\n",
      "20   2567.0   6.02%       regular\n",
      "21   2518.0   5.91%           old\n",
      "22   2516.0    5.9%         large\n",
      "23   2244.0   5.26%         whole\n",
      "24   2236.0   5.24%       natural\n",
      "25   2160.0   5.07%           dry\n",
      "26   2047.0    4.8%          free\n",
      "27   2044.0   4.79%          real\n",
      "28   1988.0   4.66%          last\n",
      "29   1975.0   4.63%           low\n",
      "30   1931.0   4.53%          easy\n",
      "31   1876.0    4.4%         fresh\n",
      "32   1860.0   4.36%           new\n",
      "33   1854.0   4.35%          fine\n",
      "34   1826.0   4.28%     expensive\n",
      "35   1764.0   4.14%         black\n",
      "36   1716.0   4.02%       overall\n",
      "37   1652.0   3.87%          give\n",
      "38   1618.0   3.79%         local\n",
      "39   1594.0   3.74%          weak\n",
      "40   1583.0   3.71%      favorite\n",
      "41   1553.0   3.64%       several\n",
      "42   1537.0    3.6%  disappointed\n",
      "43   1530.0   3.59%         cheap\n",
      "44   1483.0   3.48%          next\n",
      "45   1479.0   3.47%        amazon\n",
      "46   1476.0   3.46%         right\n",
      "47   1475.0   3.46%          long\n",
      "48   1471.0   3.45%        enough\n",
      "49   1468.0   3.44%          open\n",
      "50   1461.0   3.43%         tasty\n",
      "51   1424.0   3.34%          diet\n",
      "52   1379.0   3.23%          full\n",
      "53   1355.0   3.18%          soft\n",
      "54   1355.0   3.18%         extra\n",
      "55   1319.0   3.09%        bitter\n",
      "56   1294.0   3.03%        second\n"
     ]
    }
   ],
   "source": [
    "index = ['Phrase', 'Count', 'Occur %']\n",
    "\n",
    "for j in range(1,6):\n",
    "    test = pd.DataFrame()\n",
    "    d = adj(j, 0.03)\n",
    "    print('score {} reviews most popular:'.format(j))\n",
    "    for i in d:\n",
    "        test = test.append(pd.Series(i, index = index), ignore_index = True)\n",
    "    test = test.sort_values('Count', ascending=False)\n",
    "    print(test)"
   ]
  },
  {
   "cell_type": "code",
   "execution_count": null,
   "metadata": {},
   "outputs": [],
   "source": []
  }
 ],
 "metadata": {
  "kernelspec": {
   "display_name": "Python 3",
   "language": "python",
   "name": "python3"
  },
  "language_info": {
   "codemirror_mode": {
    "name": "ipython",
    "version": 3
   },
   "file_extension": ".py",
   "mimetype": "text/x-python",
   "name": "python",
   "nbconvert_exporter": "python",
   "pygments_lexer": "ipython3",
   "version": "3.7.3"
  }
 },
 "nbformat": 4,
 "nbformat_minor": 2
}
